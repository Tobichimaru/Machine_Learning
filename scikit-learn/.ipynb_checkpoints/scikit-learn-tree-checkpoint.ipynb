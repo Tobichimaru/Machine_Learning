{
 "cells": [
  {
   "cell_type": "markdown",
   "metadata": {},
   "source": [
    "# scikit-learn-tree"
   ]
  },
  {
   "cell_type": "markdown",
   "metadata": {},
   "source": [
    "Б3. Деревья в задаче классификации и регрессии (CART-trees)\n",
    "* http://scikit-learn.org/stable/modules/tree.html\n"
   ]
  },
  {
   "cell_type": "code",
   "execution_count": 1,
   "metadata": {
    "collapsed": false
   },
   "outputs": [
    {
     "name": "stdout",
     "output_type": "stream",
     "text": [
      "[ 0.14751816  0.30051221  0.25124241  0.30072722]\n"
     ]
    }
   ],
   "source": [
    "import numpy as np\n",
    "import pandas\n",
    "from sklearn.tree import DecisionTreeClassifier\n",
    "\n",
    "data = pandas.read_csv('./data/titanic.csv', index_col='PassengerId')\n",
    "data = data[['Pclass', 'Sex', 'Age', 'Fare', 'Survived']]\n",
    "data['Sex'] = data['Sex'].replace('male', 0)\n",
    "data['Sex'] = data['Sex'].replace('female', 1)\n",
    "data.dropna(inplace=True)\n",
    "\n",
    "X = data[['Pclass', 'Sex', 'Age', 'Fare']]\n",
    "y = data[['Survived']]\n",
    "\n",
    "clf = DecisionTreeClassifier(random_state=241)\n",
    "clf.fit(X, y)\n",
    "\n",
    "importance = clf.feature_importances_\n",
    "\n",
    "print(importance)"
   ]
  }
 ],
 "metadata": {
  "kernelspec": {
   "display_name": "Python [Root]",
   "language": "python",
   "name": "Python [Root]"
  },
  "language_info": {
   "codemirror_mode": {
    "name": "ipython",
    "version": 3
   },
   "file_extension": ".py",
   "mimetype": "text/x-python",
   "name": "python",
   "nbconvert_exporter": "python",
   "pygments_lexer": "ipython3",
   "version": "3.5.2"
  }
 },
 "nbformat": 4,
 "nbformat_minor": 0
}
