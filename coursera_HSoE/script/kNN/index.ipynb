{
 "cells": [
  {
   "cell_type": "code",
   "execution_count": 14,
   "metadata": {
    "collapsed": false
   },
   "outputs": [
    {
     "data": {
      "text/html": [
       "<div>\n",
       "<table border=\"1\" class=\"dataframe\">\n",
       "  <thead>\n",
       "    <tr style=\"text-align: right;\">\n",
       "      <th></th>\n",
       "      <th>Alcohol</th>\n",
       "      <th>Malic acid</th>\n",
       "      <th>Ash</th>\n",
       "      <th>Alcalinity of ash</th>\n",
       "      <th>Magnesium</th>\n",
       "      <th>Total phenols</th>\n",
       "      <th>Flavanoids</th>\n",
       "      <th>Nonflavanoid phenols</th>\n",
       "      <th>Proanthocyanins</th>\n",
       "      <th>Color intensity</th>\n",
       "      <th>Hue</th>\n",
       "      <th>OD280/OD315 of diluted wines</th>\n",
       "      <th>Proline</th>\n",
       "    </tr>\n",
       "  </thead>\n",
       "  <tbody>\n",
       "    <tr>\n",
       "      <th>0</th>\n",
       "      <td>13.20</td>\n",
       "      <td>1.78</td>\n",
       "      <td>2.14</td>\n",
       "      <td>11.2</td>\n",
       "      <td>100</td>\n",
       "      <td>2.65</td>\n",
       "      <td>2.76</td>\n",
       "      <td>0.26</td>\n",
       "      <td>1.28</td>\n",
       "      <td>4.38</td>\n",
       "      <td>1.05</td>\n",
       "      <td>3.40</td>\n",
       "      <td>1050</td>\n",
       "    </tr>\n",
       "    <tr>\n",
       "      <th>1</th>\n",
       "      <td>13.16</td>\n",
       "      <td>2.36</td>\n",
       "      <td>2.67</td>\n",
       "      <td>18.6</td>\n",
       "      <td>101</td>\n",
       "      <td>2.80</td>\n",
       "      <td>3.24</td>\n",
       "      <td>0.30</td>\n",
       "      <td>2.81</td>\n",
       "      <td>5.68</td>\n",
       "      <td>1.03</td>\n",
       "      <td>3.17</td>\n",
       "      <td>1185</td>\n",
       "    </tr>\n",
       "    <tr>\n",
       "      <th>2</th>\n",
       "      <td>14.37</td>\n",
       "      <td>1.95</td>\n",
       "      <td>2.50</td>\n",
       "      <td>16.8</td>\n",
       "      <td>113</td>\n",
       "      <td>3.85</td>\n",
       "      <td>3.49</td>\n",
       "      <td>0.24</td>\n",
       "      <td>2.18</td>\n",
       "      <td>7.80</td>\n",
       "      <td>0.86</td>\n",
       "      <td>3.45</td>\n",
       "      <td>1480</td>\n",
       "    </tr>\n",
       "    <tr>\n",
       "      <th>3</th>\n",
       "      <td>13.24</td>\n",
       "      <td>2.59</td>\n",
       "      <td>2.87</td>\n",
       "      <td>21.0</td>\n",
       "      <td>118</td>\n",
       "      <td>2.80</td>\n",
       "      <td>2.69</td>\n",
       "      <td>0.39</td>\n",
       "      <td>1.82</td>\n",
       "      <td>4.32</td>\n",
       "      <td>1.04</td>\n",
       "      <td>2.93</td>\n",
       "      <td>735</td>\n",
       "    </tr>\n",
       "    <tr>\n",
       "      <th>4</th>\n",
       "      <td>14.20</td>\n",
       "      <td>1.76</td>\n",
       "      <td>2.45</td>\n",
       "      <td>15.2</td>\n",
       "      <td>112</td>\n",
       "      <td>3.27</td>\n",
       "      <td>3.39</td>\n",
       "      <td>0.34</td>\n",
       "      <td>1.97</td>\n",
       "      <td>6.75</td>\n",
       "      <td>1.05</td>\n",
       "      <td>2.85</td>\n",
       "      <td>1450</td>\n",
       "    </tr>\n",
       "  </tbody>\n",
       "</table>\n",
       "</div>"
      ],
      "text/plain": [
       "   Alcohol  Malic acid   Ash  Alcalinity of ash  Magnesium  Total phenols  \\\n",
       "0    13.20        1.78  2.14               11.2        100           2.65   \n",
       "1    13.16        2.36  2.67               18.6        101           2.80   \n",
       "2    14.37        1.95  2.50               16.8        113           3.85   \n",
       "3    13.24        2.59  2.87               21.0        118           2.80   \n",
       "4    14.20        1.76  2.45               15.2        112           3.27   \n",
       "\n",
       "   Flavanoids  Nonflavanoid phenols  Proanthocyanins  Color intensity   Hue  \\\n",
       "0        2.76                  0.26             1.28             4.38  1.05   \n",
       "1        3.24                  0.30             2.81             5.68  1.03   \n",
       "2        3.49                  0.24             2.18             7.80  0.86   \n",
       "3        2.69                  0.39             1.82             4.32  1.04   \n",
       "4        3.39                  0.34             1.97             6.75  1.05   \n",
       "\n",
       "   OD280/OD315 of diluted wines  Proline  \n",
       "0                          3.40     1050  \n",
       "1                          3.17     1185  \n",
       "2                          3.45     1480  \n",
       "3                          2.93      735  \n",
       "4                          2.85     1450  "
      ]
     },
     "execution_count": 14,
     "metadata": {},
     "output_type": "execute_result"
    }
   ],
   "source": [
    "import numpy as np\n",
    "import pandas\n",
    "\n",
    "df = pandas.read_csv('../data/wine.data')\n",
    "df.columns = ['Class', 'Alcohol', 'Malic acid', 'Ash', 'Alcalinity of ash', 'Magnesium', 'Total phenols', 'Flavanoids', 'Nonflavanoid phenols', 'Proanthocyanins', 'Color intensity', 'Hue', 'OD280/OD315 of diluted wines', 'Proline']\n",
    "y = df.pop('Class')\n",
    "X = df\n",
    "\n",
    "X.head()"
   ]
  },
  {
   "cell_type": "code",
   "execution_count": 19,
   "metadata": {
    "collapsed": false
   },
   "outputs": [
    {
     "name": "stdout",
     "output_type": "stream",
     "text": [
      "1 0.74\n",
      "[ 0.7352381   0.66650794  0.71809524  0.65015873  0.7068254   0.68952381\n",
      "  0.72365079  0.70126984  0.70714286  0.67809524  0.68428571  0.6784127\n",
      "  0.71809524  0.71793651  0.73507937  0.72936508  0.72936508  0.72936508\n",
      "  0.71793651  0.72936508  0.71238095  0.71238095  0.71238095  0.71809524\n",
      "  0.72936508  0.72380952  0.72936508  0.72920635  0.72365079  0.71793651\n",
      "  0.72365079  0.71793651  0.71793651  0.70666667  0.71238095  0.70095238\n",
      "  0.7068254   0.70111111  0.71253968  0.7068254   0.71253968  0.71253968\n",
      "  0.71253968  0.70111111  0.70111111  0.7068254   0.69539683  0.70095238\n",
      "  0.6952381   0.70095238]\n"
     ]
    }
   ],
   "source": [
    "from sklearn.model_selection import KFold\n",
    "from sklearn.neighbors import KNeighborsClassifier\n",
    "from sklearn.metrics import accuracy_score\n",
    "\n",
    "kf = KFold(n_splits=5, shuffle=True, random_state=42)\n",
    "\n",
    "accuracy_list = np.array([])\n",
    "for k in range(1, 51):\n",
    "    neigh = KNeighborsClassifier(n_neighbors=k)\n",
    "\n",
    "    accuracy = np.array([])\n",
    "    for train, test in kf.split(X):\n",
    "        neigh.fit(X.loc[train], y.loc[train])\n",
    "        accuracy = np.append(accuracy, accuracy_score(y.loc[test], neigh.predict(X.loc[test])))\n",
    "\n",
    "    accuracy_list = np.append(accuracy_list, np.mean(accuracy))\n",
    "\n",
    "print(np.argmax(accuracy_list) + 1, round(accuracy_list[np.argmax(accuracy_list)], 2))\n",
    "print(accuracy_list)"
   ]
  },
  {
   "cell_type": "code",
   "execution_count": 18,
   "metadata": {
    "collapsed": false
   },
   "outputs": [
    {
     "name": "stdout",
     "output_type": "stream",
     "text": [
      "28 0.98\n",
      "[ 0.94920635  0.93793651  0.94380952  0.94349206  0.94936508  0.95460317\n",
      "  0.97190476  0.96603175  0.96079365  0.96619048  0.95507937  0.96047619\n",
      "  0.96063492  0.96047619  0.97174603  0.96047619  0.96079365  0.96031746\n",
      "  0.96619048  0.96603175  0.97174603  0.96031746  0.97174603  0.97174603\n",
      "  0.97174603  0.97174603  0.97174603  0.97730159  0.97730159  0.97730159\n",
      "  0.97730159  0.97730159  0.97730159  0.97730159  0.97730159  0.97730159\n",
      "  0.97730159  0.9715873   0.96603175  0.9715873   0.96603175  0.9715873\n",
      "  0.9715873   0.96603175  0.96603175  0.96603175  0.96603175  0.96603175\n",
      "  0.96603175  0.9715873 ]\n"
     ]
    }
   ],
   "source": [
    "from sklearn.preprocessing import scale\n",
    "\n",
    "x_scaled = scale(X)\n",
    "accuracy_list = np.array([])\n",
    "for k in range(1, 51):\n",
    "    neigh = KNeighborsClassifier(n_neighbors=k)\n",
    "\n",
    "    accuracy = np.array([])\n",
    "    for train, test in kf.split(x_scaled):\n",
    "        neigh.fit(x_scaled[train], y.loc[train])\n",
    "        accuracy = np.append(accuracy, accuracy_score(y.loc[test], neigh.predict(x_scaled[test])))\n",
    "\n",
    "    accuracy_list = np.append(accuracy_list, np.mean(accuracy))\n",
    "\n",
    "print(np.argmax(accuracy_list) + 1, round(accuracy_list[np.argmax(accuracy_list)], 2))\n",
    "print(accuracy_list)"
   ]
  },
  {
   "cell_type": "code",
   "execution_count": null,
   "metadata": {
    "collapsed": true
   },
   "outputs": [],
   "source": []
  }
 ],
 "metadata": {
  "kernelspec": {
   "display_name": "Python 3",
   "language": "python",
   "name": "python3"
  },
  "language_info": {
   "codemirror_mode": {
    "name": "ipython",
    "version": 3
   },
   "file_extension": ".py",
   "mimetype": "text/x-python",
   "name": "python",
   "nbconvert_exporter": "python",
   "pygments_lexer": "ipython3",
   "version": "3.6.0"
  }
 },
 "nbformat": 4,
 "nbformat_minor": 2
}
