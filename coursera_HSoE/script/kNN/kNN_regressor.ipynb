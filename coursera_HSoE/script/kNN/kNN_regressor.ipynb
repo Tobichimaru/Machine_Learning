{
 "cells": [
  {
   "cell_type": "code",
   "execution_count": 33,
   "metadata": {
    "collapsed": false
   },
   "outputs": [],
   "source": [
    "from sklearn import datasets\n",
    "from sklearn.preprocessing import scale\n",
    "\n",
    "data = datasets.load_boston()\n",
    "X = scale(data['data'])\n",
    "y = data['target']"
   ]
  },
  {
   "cell_type": "code",
   "execution_count": 40,
   "metadata": {
    "collapsed": false
   },
   "outputs": [
    {
     "data": {
      "text/plain": [
       "'p=1.0'"
      ]
     },
     "execution_count": 40,
     "metadata": {},
     "output_type": "execute_result"
    }
   ],
   "source": [
    "import numpy as np\n",
    "from sklearn.neighbors import KNeighborsRegressor\n",
    "from sklearn.model_selection import (KFold, cross_val_score)\n",
    "\n",
    "kf = KFold(n_splits=5, shuffle=True, random_state=42)\n",
    "\n",
    "cvs_mean = np.array([])\n",
    "for p in np.linspace(start=1, stop=10, num=200):\n",
    "    neigh = KNeighborsRegressor(n_neighbors=5, weights='distance', p=p, metric='minkowski')\n",
    "    cvs = cross_val_score(\n",
    "        estimator=neigh,\n",
    "        X=X,\n",
    "        y=y,\n",
    "        scoring='neg_mean_squared_error',\n",
    "        cv=kf\n",
    "    )\n",
    "    cvs_mean = np.append(cvs_mean, np.mean(cvs))\n",
    "\n",
    "p = (np.argmax(cvs_mean) * 9 / 200) + 1\n",
    "'p={}'.format(p)\n",
    "    "
   ]
  },
  {
   "cell_type": "code",
   "execution_count": null,
   "metadata": {
    "collapsed": true
   },
   "outputs": [],
   "source": []
  }
 ],
 "metadata": {
  "kernelspec": {
   "display_name": "Python 3",
   "language": "python",
   "name": "python3"
  },
  "language_info": {
   "codemirror_mode": {
    "name": "ipython",
    "version": 3
   },
   "file_extension": ".py",
   "mimetype": "text/x-python",
   "name": "python",
   "nbconvert_exporter": "python",
   "pygments_lexer": "ipython3",
   "version": "3.6.0"
  }
 },
 "nbformat": 4,
 "nbformat_minor": 2
}
