{
 "cells": [
  {
   "cell_type": "code",
   "execution_count": 1,
   "metadata": {
    "collapsed": false
   },
   "outputs": [
    {
     "data": {
      "text/html": [
       "<div>\n",
       "<table border=\"1\" class=\"dataframe\">\n",
       "  <thead>\n",
       "    <tr style=\"text-align: right;\">\n",
       "      <th></th>\n",
       "      <th>0</th>\n",
       "      <th>1</th>\n",
       "      <th>2</th>\n",
       "    </tr>\n",
       "  </thead>\n",
       "  <tbody>\n",
       "    <tr>\n",
       "      <th>0</th>\n",
       "      <td>-1</td>\n",
       "      <td>-0.663827</td>\n",
       "      <td>-0.138526</td>\n",
       "    </tr>\n",
       "    <tr>\n",
       "      <th>1</th>\n",
       "      <td>1</td>\n",
       "      <td>1.994596</td>\n",
       "      <td>2.468025</td>\n",
       "    </tr>\n",
       "    <tr>\n",
       "      <th>2</th>\n",
       "      <td>-1</td>\n",
       "      <td>-1.247395</td>\n",
       "      <td>0.749425</td>\n",
       "    </tr>\n",
       "    <tr>\n",
       "      <th>3</th>\n",
       "      <td>1</td>\n",
       "      <td>2.309374</td>\n",
       "      <td>1.899836</td>\n",
       "    </tr>\n",
       "    <tr>\n",
       "      <th>4</th>\n",
       "      <td>1</td>\n",
       "      <td>0.849143</td>\n",
       "      <td>2.407750</td>\n",
       "    </tr>\n",
       "  </tbody>\n",
       "</table>\n",
       "</div>"
      ],
      "text/plain": [
       "   0         1         2\n",
       "0 -1 -0.663827 -0.138526\n",
       "1  1  1.994596  2.468025\n",
       "2 -1 -1.247395  0.749425\n",
       "3  1  2.309374  1.899836\n",
       "4  1  0.849143  2.407750"
      ]
     },
     "execution_count": 1,
     "metadata": {},
     "output_type": "execute_result"
    }
   ],
   "source": [
    "import pandas as pd\n",
    "\n",
    "df = pd.read_csv('../../data/data-logistic.csv', header=None)\n",
    "y = df.loc[:, 0]\n",
    "X = df.loc[:, 1:2].values\n",
    "df.head()"
   ]
  },
  {
   "cell_type": "code",
   "execution_count": 2,
   "metadata": {
    "collapsed": true
   },
   "outputs": [],
   "source": [
    "import numpy as np\n",
    "from scipy.spatial import distance\n",
    "\n",
    "class GDClassifier:\n",
    "    def __init__(self, learning_rate=0.1, alpha=0.00001, regularization=0):\n",
    "        self.learning_rate = learning_rate\n",
    "        self.alpha = alpha\n",
    "        self.w1 = 0\n",
    "        self.w2 = 0\n",
    "        self.regularization = regularization\n",
    "        \n",
    "    def fit(self, X, y):\n",
    "        for i in range(0, 10000):\n",
    "            w1, w2 = self.next_step(X, y, self.regularization)\n",
    "            if distance.euclidean([w1,w2],[self.w1,self.w2]) < self.alpha:\n",
    "                print('convergence:', i)\n",
    "                return self.w1, self.w2\n",
    "            \n",
    "    def next_step(self, x, y, C):\n",
    "        w1, w2 = self.w1, self.w2\n",
    "        k = self.learning_rate\n",
    "        self.w1=w1+k*(1/len(x)*np.sum(x[:,0]*y*(1-1/(1+np.exp(-y*(w1*x[:,0]+w2*x[:,1]))))))-k*C*w1\n",
    "        self.w2=w2+k*(1/len(x)*np.sum(x[:,1]*y*(1-1/(1+np.exp(-y*(w1*x[:,0]+w2*x[:,1]))))))-k*C*w2\n",
    "        return w1, w2"
   ]
  },
  {
   "cell_type": "code",
   "execution_count": 3,
   "metadata": {
    "collapsed": false
   },
   "outputs": [
    {
     "name": "stdout",
     "output_type": "stream",
     "text": [
      "convergence: 243\n"
     ]
    },
    {
     "data": {
      "text/plain": [
       "0.92685714285714282"
      ]
     },
     "execution_count": 3,
     "metadata": {},
     "output_type": "execute_result"
    }
   ],
   "source": [
    "from sklearn.metrics import roc_auc_score as roc\n",
    "\n",
    "clf = GDClassifier()\n",
    "clf.fit(X, y)\n",
    "clf.w1, clf.w2\n",
    "\n",
    "roc(y, np.matmul(X, [clf.w1, clf.w2]))"
   ]
  },
  {
   "cell_type": "code",
   "execution_count": 4,
   "metadata": {
    "collapsed": false
   },
   "outputs": [
    {
     "name": "stdout",
     "output_type": "stream",
     "text": [
      "convergence: 7\n"
     ]
    },
    {
     "data": {
      "text/plain": [
       "0.93628571428571417"
      ]
     },
     "execution_count": 4,
     "metadata": {},
     "output_type": "execute_result"
    }
   ],
   "source": [
    "clf = GDClassifier(regularization=10)\n",
    "clf.fit(X, y)\n",
    "clf.w1, clf.w2\n",
    "\n",
    "roc(y, np.matmul(X, [clf.w1, clf.w2]))"
   ]
  }
 ],
 "metadata": {
  "kernelspec": {
   "display_name": "Python 3",
   "language": "python",
   "name": "python3"
  },
  "language_info": {
   "codemirror_mode": {
    "name": "ipython",
    "version": 3
   },
   "file_extension": ".py",
   "mimetype": "text/x-python",
   "name": "python",
   "nbconvert_exporter": "python",
   "pygments_lexer": "ipython3",
   "version": "3.6.0"
  }
 },
 "nbformat": 4,
 "nbformat_minor": 2
}
